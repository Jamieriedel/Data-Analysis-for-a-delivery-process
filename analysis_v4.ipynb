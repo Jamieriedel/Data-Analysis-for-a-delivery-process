{
 "cells": [
  {
   "cell_type": "markdown",
   "metadata": {},
   "source": []
  },
  {
   "cell_type": "code",
   "execution_count": 90,
   "metadata": {},
   "outputs": [],
   "source": [
    "import pandas as pd\n",
    "import seaborn as sns \n",
    "import matplotlib.pyplot as plt\n",
    "\n",
    "# reading the files into our code\n",
    "df = pd.read_csv(\"data/orders.csv\", header=1)\n",
    "df_intern = pd.read_csv(\"data/intern_with_day.csv\")\n",
    "df_campaign = pd.read_csv(\"data/campaign_data.csv\")\n",
    "df_process = pd.read_csv(\"data/order_process_data.csv\")\n",
    "\n",
    "# change the column names to lowercase and replace whitespace with an underscore\n",
    "df.columns=df.columns.str.lower().str.replace(\" \", \"_\") \n",
    "df_campaign.columns=df_campaign.columns.str.lower().str.replace(\" \", \"_\")\n",
    "df_intern.columns=df_intern.columns.str.lower().str.replace(\" \", \"_\")\n",
    "df_process.columns=df_process.columns.str.lower().str.replace(\" \", \"_\")\n",
    "\n",
    "# change the date to the same format across all dataframes \n",
    "df[\"order_date\"] = pd.to_datetime(df[\"order_date\"], dayfirst=True) \n",
    "df_process[\"on_truck_scan_date\"] = pd.to_datetime(df_process[\"on_truck_scan_date\"], format='mixed', dayfirst=True)\n",
    "df_process[\"order_date\"] = pd.to_datetime(df_process[\"order_date\"], format='mixed', dayfirst=True)\n",
    "df_campaign[\"arrival_scan_date\"] = pd.to_datetime(df_campaign[\"arrival_scan_date\"], format='mixed', dayfirst=True)\n",
    "df_intern[\"ready_to_ship_date\"] = pd.to_datetime(df_intern[\"ready_to_ship_date\"], format='mixed', dayfirst=True)\n",
    "df_intern[\"pickup_date\"] = pd.to_datetime(df_intern[\"pickup_date\"], format='mixed', dayfirst=True)\n",
    "\n",
    "# get rid of whitespace \n",
    "df_campaign[\"order_id\"] = df_campaign[\"order_id\"].str.strip()\n",
    "\n",
    "# drop column we don't need\n",
    "df.drop(columns=[\"postal_code\"], inplace=True)\n",
    "\n",
    "# drop duplicates \n",
    "df_intern.drop_duplicates(inplace=True)  "
   ]
  },
  {
   "cell_type": "markdown",
   "metadata": {},
   "source": [
    "Hypothesis 1: warehouse process migth take longer than expected (exp.: ~ 2d)\n"
   ]
  },
  {
   "cell_type": "code",
   "execution_count": 32,
   "metadata": {},
   "outputs": [
    {
     "name": "stdout",
     "output_type": "stream",
     "text": [
      "4 days 03:47:22.105263157\n",
      "ship_mode\n",
      "First Class      1 days 21:52:56.470588235\n",
      "Second Class     3 days 20:54:11.612903225\n",
      "Standard Class   5 days 07:19:06.188340807\n",
      "Name: time, dtype: timedelta64[ns] \n",
      "\n",
      "ship_mode\n",
      "First Class       102\n",
      "Second Class       93\n",
      "Standard Class    223\n",
      "Name: time, dtype: int64 \n",
      "\n",
      "8.0\n",
      "0.0\n"
     ]
    }
   ],
   "source": [
    "# create dataframe for internal warehouse process \n",
    "warehouse_pr = df_intern.merge(df, how = 'left', on = 'order_id')\n",
    "warehouse_pr = warehouse_pr[['order_id', 'origin_channel', 'quantity', 'ship_mode', 'order_date', 'ready_to_ship_date', 'ready_to_ship_day']] \n",
    "warehouse_pr.drop_duplicates()\n",
    "\n",
    "warehouse_pr['time'] = warehouse_pr['ready_to_ship_date'] - warehouse_pr['order_date'] \n",
    "print(warehouse_pr['time'].mean())\n",
    "\n",
    "# look at mean and count for ship_mode\n",
    "print(warehouse_pr.groupby('ship_mode')[\"time\"].mean(),'\\n')\n",
    "print(warehouse_pr.groupby('ship_mode')[\"time\"].count(),'\\n') \n",
    "\n",
    "# create column for day of date \n",
    "warehouse_pr['order_day'] = warehouse_pr['order_date'].dt.day_name() \n",
    "df_intern[\"day\"] = df_intern[\"ready_to_ship_date\"].dt.day_name() \n",
    "\n",
    "# convert time to floating number in order to visualize data later on e.g. plot for H4\n",
    "warehouse_pr['time'] = warehouse_pr['time'].dt.days.astype(float) \n",
    "print(warehouse_pr['time'].max())\n",
    "print(warehouse_pr['time'].min())\n"
   ]
  },
  {
   "cell_type": "markdown",
   "metadata": {},
   "source": [
    "Hypothesis 1: Overall our hypothesis could be validated/confirmed as we can see that our mean value for the internal processing time (order > ready to ship) is ~4d. Furthermore the shipping mode seemes to have an influence on the processing time. We can see that there is deviation of ~ 2d depending on shipping mode."
   ]
  },
  {
   "cell_type": "markdown",
   "metadata": {},
   "source": [
    "Data check: influence of order day and shipping mode on the internal processing time (warehouse = order > ready to ship)"
   ]
  },
  {
   "cell_type": "code",
   "execution_count": 3,
   "metadata": {},
   "outputs": [
    {
     "data": {
      "text/html": [
       "<div>\n",
       "<style scoped>\n",
       "    .dataframe tbody tr th:only-of-type {\n",
       "        vertical-align: middle;\n",
       "    }\n",
       "\n",
       "    .dataframe tbody tr th {\n",
       "        vertical-align: top;\n",
       "    }\n",
       "\n",
       "    .dataframe thead th {\n",
       "        text-align: right;\n",
       "    }\n",
       "</style>\n",
       "<table border=\"1\" class=\"dataframe\">\n",
       "  <thead>\n",
       "    <tr style=\"text-align: right;\">\n",
       "      <th></th>\n",
       "      <th>order_day</th>\n",
       "      <th>time</th>\n",
       "    </tr>\n",
       "  </thead>\n",
       "  <tbody>\n",
       "    <tr>\n",
       "      <th>0</th>\n",
       "      <td>Friday</td>\n",
       "      <td>4.148649</td>\n",
       "    </tr>\n",
       "    <tr>\n",
       "      <th>1</th>\n",
       "      <td>Monday</td>\n",
       "      <td>3.797468</td>\n",
       "    </tr>\n",
       "    <tr>\n",
       "      <th>2</th>\n",
       "      <td>Saturday</td>\n",
       "      <td>4.517241</td>\n",
       "    </tr>\n",
       "    <tr>\n",
       "      <th>3</th>\n",
       "      <td>Sunday</td>\n",
       "      <td>6.400000</td>\n",
       "    </tr>\n",
       "    <tr>\n",
       "      <th>4</th>\n",
       "      <td>Thursday</td>\n",
       "      <td>4.014706</td>\n",
       "    </tr>\n",
       "    <tr>\n",
       "      <th>5</th>\n",
       "      <td>Tuesday</td>\n",
       "      <td>4.575000</td>\n",
       "    </tr>\n",
       "    <tr>\n",
       "      <th>6</th>\n",
       "      <td>Wednesday</td>\n",
       "      <td>3.963855</td>\n",
       "    </tr>\n",
       "  </tbody>\n",
       "</table>\n",
       "</div>"
      ],
      "text/plain": [
       "   order_day      time\n",
       "0     Friday  4.148649\n",
       "1     Monday  3.797468\n",
       "2   Saturday  4.517241\n",
       "3     Sunday  6.400000\n",
       "4   Thursday  4.014706\n",
       "5    Tuesday  4.575000\n",
       "6  Wednesday  3.963855"
      ]
     },
     "execution_count": 3,
     "metadata": {},
     "output_type": "execute_result"
    }
   ],
   "source": [
    "\n",
    "warehouse_pr['ready_to_ship_day'].value_counts()\n",
    "warehouse_pr.groupby('order_day', as_index=False)['time'].mean() # (warehouse_pr['ship_mode']) \n"
   ]
  },
  {
   "cell_type": "code",
   "execution_count": 4,
   "metadata": {},
   "outputs": [
    {
     "data": {
      "text/html": [
       "<div>\n",
       "<style scoped>\n",
       "    .dataframe tbody tr th:only-of-type {\n",
       "        vertical-align: middle;\n",
       "    }\n",
       "\n",
       "    .dataframe tbody tr th {\n",
       "        vertical-align: top;\n",
       "    }\n",
       "\n",
       "    .dataframe thead th {\n",
       "        text-align: right;\n",
       "    }\n",
       "</style>\n",
       "<table border=\"1\" class=\"dataframe\">\n",
       "  <thead>\n",
       "    <tr style=\"text-align: right;\">\n",
       "      <th>ship_mode</th>\n",
       "      <th>First Class</th>\n",
       "      <th>Second Class</th>\n",
       "      <th>Standard Class</th>\n",
       "    </tr>\n",
       "    <tr>\n",
       "      <th>order_day</th>\n",
       "      <th></th>\n",
       "      <th></th>\n",
       "      <th></th>\n",
       "    </tr>\n",
       "  </thead>\n",
       "  <tbody>\n",
       "    <tr>\n",
       "      <th>Friday</th>\n",
       "      <td>2.000000</td>\n",
       "      <td>3.600000</td>\n",
       "      <td>5.256410</td>\n",
       "    </tr>\n",
       "    <tr>\n",
       "      <th>Monday</th>\n",
       "      <td>1.866667</td>\n",
       "      <td>2.904762</td>\n",
       "      <td>4.906977</td>\n",
       "    </tr>\n",
       "    <tr>\n",
       "      <th>Saturday</th>\n",
       "      <td>3.800000</td>\n",
       "      <td>2.000000</td>\n",
       "      <td>4.909091</td>\n",
       "    </tr>\n",
       "    <tr>\n",
       "      <th>Sunday</th>\n",
       "      <td>0.000000</td>\n",
       "      <td>4.000000</td>\n",
       "      <td>8.000000</td>\n",
       "    </tr>\n",
       "    <tr>\n",
       "      <th>Thursday</th>\n",
       "      <td>2.150000</td>\n",
       "      <td>4.687500</td>\n",
       "      <td>4.843750</td>\n",
       "    </tr>\n",
       "    <tr>\n",
       "      <th>Tuesday</th>\n",
       "      <td>1.300000</td>\n",
       "      <td>4.176471</td>\n",
       "      <td>6.255814</td>\n",
       "    </tr>\n",
       "    <tr>\n",
       "      <th>Wednesday</th>\n",
       "      <td>1.814815</td>\n",
       "      <td>4.600000</td>\n",
       "      <td>5.146341</td>\n",
       "    </tr>\n",
       "  </tbody>\n",
       "</table>\n",
       "</div>"
      ],
      "text/plain": [
       "ship_mode  First Class  Second Class  Standard Class\n",
       "order_day                                           \n",
       "Friday        2.000000      3.600000        5.256410\n",
       "Monday        1.866667      2.904762        4.906977\n",
       "Saturday      3.800000      2.000000        4.909091\n",
       "Sunday        0.000000      4.000000        8.000000\n",
       "Thursday      2.150000      4.687500        4.843750\n",
       "Tuesday       1.300000      4.176471        6.255814\n",
       "Wednesday     1.814815      4.600000        5.146341"
      ]
     },
     "execution_count": 4,
     "metadata": {},
     "output_type": "execute_result"
    }
   ],
   "source": [
    "pd.pivot_table(warehouse_pr,\n",
    "                values='time',\n",
    "                index='order_day',\n",
    "                columns='ship_mode',\n",
    "                aggfunc='mean',\n",
    "                fill_value=0) "
   ]
  },
  {
   "cell_type": "markdown",
   "metadata": {},
   "source": [
    "Hypothesis 3: the origin channel is influencing the internal processing time (warehouse = order > ready to ship)"
   ]
  },
  {
   "cell_type": "code",
   "execution_count": 5,
   "metadata": {},
   "outputs": [],
   "source": [
    "origin_inf=pd.pivot_table(warehouse_pr,\n",
    "                values='time',\n",
    "               # index='order_day',\n",
    "            \n",
    "                columns='origin_channel',\n",
    "                aggfunc='mean',\n",
    "                fill_value=0)  "
   ]
  },
  {
   "cell_type": "code",
   "execution_count": 6,
   "metadata": {},
   "outputs": [],
   "source": [
    "origin_inf = origin_inf.T \n",
    "#origin_inf['somethin_else']= [1,2,3]\n",
    "origin_inf.reset_index(inplace = True) "
   ]
  },
  {
   "cell_type": "code",
   "execution_count": 7,
   "metadata": {},
   "outputs": [
    {
     "data": {
      "text/html": [
       "<div>\n",
       "<style scoped>\n",
       "    .dataframe tbody tr th:only-of-type {\n",
       "        vertical-align: middle;\n",
       "    }\n",
       "\n",
       "    .dataframe tbody tr th {\n",
       "        vertical-align: top;\n",
       "    }\n",
       "\n",
       "    .dataframe thead th {\n",
       "        text-align: right;\n",
       "    }\n",
       "</style>\n",
       "<table border=\"1\" class=\"dataframe\">\n",
       "  <thead>\n",
       "    <tr style=\"text-align: right;\">\n",
       "      <th></th>\n",
       "      <th>origin_channel</th>\n",
       "      <th>time</th>\n",
       "    </tr>\n",
       "  </thead>\n",
       "  <tbody>\n",
       "    <tr>\n",
       "      <th>0</th>\n",
       "      <td>Email</td>\n",
       "      <td>4.558140</td>\n",
       "    </tr>\n",
       "    <tr>\n",
       "      <th>1</th>\n",
       "      <td>Facebook</td>\n",
       "      <td>3.752809</td>\n",
       "    </tr>\n",
       "    <tr>\n",
       "      <th>2</th>\n",
       "      <td>Sales</td>\n",
       "      <td>3.719298</td>\n",
       "    </tr>\n",
       "  </tbody>\n",
       "</table>\n",
       "</div>"
      ],
      "text/plain": [
       "  origin_channel      time\n",
       "0          Email  4.558140\n",
       "1       Facebook  3.752809\n",
       "2          Sales  3.719298"
      ]
     },
     "execution_count": 7,
     "metadata": {},
     "output_type": "execute_result"
    }
   ],
   "source": [
    "origin_inf\n"
   ]
  },
  {
   "cell_type": "code",
   "execution_count": 101,
   "metadata": {},
   "outputs": [
    {
     "data": {
      "image/png": "[encoded data removed]",
      "text/plain": [
       "<Figure size 640x480 with 1 Axes>"
      ]
     },
     "metadata": {},
     "output_type": "display_data"
    }
   ],
   "source": [
    "sns.barplot( data = origin_inf, x = 'origin_channel', y = 'time', palette=['r', 'b', 'g']);"
   ]
  },
  {
   "cell_type": "markdown",
   "metadata": {},
   "source": [
    "Depending on the origin channel, the E-Mail channel tends to have a longer internal processing time of at least ~1d compared to the other available channels.\n",
    "> proposal: E-Mail automation"
   ]
  },
  {
   "cell_type": "markdown",
   "metadata": {},
   "source": [
    "Hypothesis 4: the quantity of the orders is influencing the internal processing time (warehouse = order > ready to ship)"
   ]
  },
  {
   "cell_type": "code",
   "execution_count": 9,
   "metadata": {},
   "outputs": [
    {
     "data": {
      "text/html": [
       "<div>\n",
       "<style scoped>\n",
       "    .dataframe tbody tr th:only-of-type {\n",
       "        vertical-align: middle;\n",
       "    }\n",
       "\n",
       "    .dataframe tbody tr th {\n",
       "        vertical-align: top;\n",
       "    }\n",
       "\n",
       "    .dataframe thead th {\n",
       "        text-align: right;\n",
       "    }\n",
       "</style>\n",
       "<table border=\"1\" class=\"dataframe\">\n",
       "  <thead>\n",
       "    <tr style=\"text-align: right;\">\n",
       "      <th>quantity</th>\n",
       "      <th>1</th>\n",
       "      <th>2</th>\n",
       "      <th>3</th>\n",
       "      <th>4</th>\n",
       "      <th>5</th>\n",
       "      <th>6</th>\n",
       "      <th>7</th>\n",
       "      <th>8</th>\n",
       "      <th>9</th>\n",
       "      <th>10</th>\n",
       "      <th>11</th>\n",
       "      <th>12</th>\n",
       "      <th>13</th>\n",
       "      <th>14</th>\n",
       "    </tr>\n",
       "  </thead>\n",
       "  <tbody>\n",
       "    <tr>\n",
       "      <th>time</th>\n",
       "      <td>4.342105</td>\n",
       "      <td>4.190476</td>\n",
       "      <td>4.044444</td>\n",
       "      <td>3.959184</td>\n",
       "      <td>4.081633</td>\n",
       "      <td>3.884615</td>\n",
       "      <td>4.173913</td>\n",
       "      <td>5.0</td>\n",
       "      <td>4.384615</td>\n",
       "      <td>5.0</td>\n",
       "      <td>5.0</td>\n",
       "      <td>4.0</td>\n",
       "      <td>6.0</td>\n",
       "      <td>3.5</td>\n",
       "    </tr>\n",
       "  </tbody>\n",
       "</table>\n",
       "</div>"
      ],
      "text/plain": [
       "quantity        1         2         3         4         5         6   \\\n",
       "time      4.342105  4.190476  4.044444  3.959184  4.081633  3.884615   \n",
       "\n",
       "quantity        7    8         9    10   11   12   13   14  \n",
       "time      4.173913  5.0  4.384615  5.0  5.0  4.0  6.0  3.5  "
      ]
     },
     "execution_count": 9,
     "metadata": {},
     "output_type": "execute_result"
    }
   ],
   "source": [
    "# the time it takes from order to ready to ship depending on the quantity of the orders \n",
    "quantity_inf = pd.pivot_table(warehouse_pr,\n",
    "                values='time',\n",
    "                # index='time', \n",
    "                columns='quantity',\n",
    "                aggfunc='mean',\n",
    "                fill_value=0) \n",
    "\n",
    "quantity_inf"
   ]
  },
  {
   "cell_type": "code",
   "execution_count": 10,
   "metadata": {},
   "outputs": [],
   "source": [
    "quantity_inf = quantity_inf.T \n",
    "quantity_inf['somethin_else']= [1,2,3,4,5,6,7,8,9,10,11,12,13,14]\n",
    "quantity_inf.reset_index(inplace = True) "
   ]
  },
  {
   "cell_type": "code",
   "execution_count": 102,
   "metadata": {},
   "outputs": [
    {
     "data": {
      "image/png": "[encoded data removed]",
      "text/plain": [
       "<Figure size 500x500 with 1 Axes>"
      ]
     },
     "metadata": {},
     "output_type": "display_data"
    }
   ],
   "source": [
    "sns.lmplot( data = quantity_inf, x = 'quantity', y = 'time', palette=['r', 'g']) ;"
   ]
  },
  {
   "cell_type": "markdown",
   "metadata": {},
   "source": [
    "for H4: we can't examine any correlation between the quantity of products per order and internal processing time (warehouse = order > ready to ship)"
   ]
  },
  {
   "cell_type": "code",
   "execution_count": 12,
   "metadata": {},
   "outputs": [],
   "source": [
    "#df_dummies = pd.get_dummies(warehouse_pr.ship_mode)\n",
    "#concat_df = pd.concat([df_dummies, warehouse_pr], axis=1) "
   ]
  },
  {
   "cell_type": "code",
   "execution_count": 13,
   "metadata": {},
   "outputs": [],
   "source": [
    "#concat_df.head() "
   ]
  },
  {
   "cell_type": "markdown",
   "metadata": {},
   "source": [
    "Hypothesis 2: last mile delivery time might by heavily dependend on delivery region."
   ]
  },
  {
   "cell_type": "code",
   "execution_count": 14,
   "metadata": {},
   "outputs": [
    {
     "data": {
      "text/html": [
       "<div>\n",
       "<style scoped>\n",
       "    .dataframe tbody tr th:only-of-type {\n",
       "        vertical-align: middle;\n",
       "    }\n",
       "\n",
       "    .dataframe tbody tr th {\n",
       "        vertical-align: top;\n",
       "    }\n",
       "\n",
       "    .dataframe thead th {\n",
       "        text-align: right;\n",
       "    }\n",
       "</style>\n",
       "<table border=\"1\" class=\"dataframe\">\n",
       "  <thead>\n",
       "    <tr style=\"text-align: right;\">\n",
       "      <th></th>\n",
       "      <th>region</th>\n",
       "      <th>time</th>\n",
       "    </tr>\n",
       "  </thead>\n",
       "  <tbody>\n",
       "    <tr>\n",
       "      <th>0</th>\n",
       "      <td>Central</td>\n",
       "      <td>4 days 08:30:49.117174959</td>\n",
       "    </tr>\n",
       "    <tr>\n",
       "      <th>1</th>\n",
       "      <td>East</td>\n",
       "      <td>4 days 16:07:05.615763546</td>\n",
       "    </tr>\n",
       "    <tr>\n",
       "      <th>2</th>\n",
       "      <td>South</td>\n",
       "      <td>4 days 15:03:45.941422594</td>\n",
       "    </tr>\n",
       "    <tr>\n",
       "      <th>3</th>\n",
       "      <td>West</td>\n",
       "      <td>4 days 15:42:46.153846153</td>\n",
       "    </tr>\n",
       "  </tbody>\n",
       "</table>\n",
       "</div>"
      ],
      "text/plain": [
       "    region                      time\n",
       "0  Central 4 days 08:30:49.117174959\n",
       "1     East 4 days 16:07:05.615763546\n",
       "2    South 4 days 15:03:45.941422594\n",
       "3     West 4 days 15:42:46.153846153"
      ]
     },
     "execution_count": 14,
     "metadata": {},
     "output_type": "execute_result"
    }
   ],
   "source": [
    "last_mile = df_campaign.merge(df_process, how = 'left', on ='order_id')\n",
    "last_mile['time'] = last_mile ['arrival_scan_date'] - last_mile['on_truck_scan_date'] \n",
    "last_mile\n",
    "\n",
    "last_mile = last_mile.merge(df[['order_id','region']], how = 'left', on = 'order_id')\n",
    "\n",
    "last_mile.groupby('region', as_index=False)['time'].mean() "
   ]
  },
  {
   "cell_type": "code",
   "execution_count": null,
   "metadata": {},
   "outputs": [],
   "source": []
  },
  {
   "cell_type": "markdown",
   "metadata": {},
   "source": [
    "H2: based on data analysis, we cannot see any dependency of delivery region on the last mile delivery time."
   ]
  },
  {
   "cell_type": "markdown",
   "metadata": {},
   "source": [
    "Hypothesis 5: the amount of orders per day is influencing the internal processing time (warehouse = order > ready to ship)"
   ]
  },
  {
   "cell_type": "code",
   "execution_count": 104,
   "metadata": {},
   "outputs": [
    {
     "name": "stdout",
     "output_type": "stream",
     "text": [
      "            order_date      time     count\n",
      "order_date    1.000000 -0.038523  0.329460\n",
      "time         -0.038523  1.000000 -0.339804\n",
      "count         0.329460 -0.339804  1.000000\n"
     ]
    },
    {
     "data": {
      "image/png": "[encoded data removed]",
      "text/plain": [
       "<Figure size 400x400 with 1 Axes>"
      ]
     },
     "metadata": {},
     "output_type": "display_data"
    }
   ],
   "source": [
    "df_time = pd.pivot_table( warehouse_pr,\n",
    "                values = 'time',\n",
    "                index='order_date',\n",
    "                aggfunc='mean',\n",
    "                fill_value=0)  \n",
    "\n",
    "# amount of orders per day\n",
    "\n",
    "df_unique = df.copy()\n",
    "df_unique.drop_duplicates(subset=['order_id'], inplace=True)\n",
    "\n",
    "counts = df_unique['order_date'].value_counts() \n",
    "df_numberorders = pd.DataFrame(counts.reset_index()) \n",
    "\n",
    "df_time_count = df_time.merge(df_numberorders, on = 'order_date')\n",
    "df_time_count.sort_values('count', ascending= False)\n",
    "\n",
    "fig=sns.lmplot(data = df_time_count, x = 'count', y = 'time', palette=\"inferno\", ci=None,\n",
    "    height=4, scatter_kws={\"s\": 50, \"alpha\": 1}) \n",
    "fig.set_axis_labels('amount of orders', 'time')\n",
    "print(df_time_count.corr()) \n"
   ]
  },
  {
   "cell_type": "markdown",
   "metadata": {},
   "source": [
    "H5: no direct correlation.\n",
    "\n",
    "> assumption: warehouse workers tend to work faster when orders intake is high"
   ]
  },
  {
   "cell_type": "markdown",
   "metadata": {},
   "source": [
    "Examine the monthly delivery times"
   ]
  },
  {
   "cell_type": "code",
   "execution_count": 47,
   "metadata": {},
   "outputs": [],
   "source": [
    "df_season = df_process.copy()\n",
    "df_season[\"month\"] = df_season[\"order_date\"].dt.month_name() \n",
    "df_season['time'] = df_season['on_truck_scan_date'] - df_season['order_date'] \n",
    "df_season['time'] = df_season['time'].dt.days.astype(float) "
   ]
  },
  {
   "cell_type": "code",
   "execution_count": 96,
   "metadata": {},
   "outputs": [
    {
     "data": {
      "text/plain": [
       "month\n",
       "April        6.198391\n",
       "August       6.266497\n",
       "December     6.291155\n",
       "February     6.357895\n",
       "January      6.643443\n",
       "July         6.353630\n",
       "June         5.817568\n",
       "March        5.581047\n",
       "May          6.012848\n",
       "November     6.178528\n",
       "October      6.170040\n",
       "September    5.914842\n",
       "Name: time, dtype: float64"
      ]
     },
     "execution_count": 96,
     "metadata": {},
     "output_type": "execute_result"
    }
   ],
   "source": [
    "df_season.groupby(\"month\")[\"time\"].mean()"
   ]
  },
  {
   "cell_type": "code",
   "execution_count": 95,
   "metadata": {},
   "outputs": [
    {
     "data": {
      "image/png": "[encoded data removed]",
      "text/plain": [
       "<Figure size 2000x1000 with 1 Axes>"
      ]
     },
     "metadata": {},
     "output_type": "display_data"
    }
   ],
   "source": [
    "plt.figure(figsize=(20,10))\n",
    "sns.boxplot(data=df_season, y=\"time\", x=\"month\", hue=\"ship_mode\", palette=\"inferno\");"
   ]
  },
  {
   "cell_type": "markdown",
   "metadata": {},
   "source": [
    "                                        KPI's:                                                          "
   ]
  },
  {
   "cell_type": "code",
   "execution_count": 16,
   "metadata": {},
   "outputs": [
    {
     "name": "stdout",
     "output_type": "stream",
     "text": [
      "4 days 13:34:33.151750972\n"
     ]
    }
   ],
   "source": [
    "# shipping time \n",
    "\n",
    "print(last_mile['time'].mean())"
   ]
  },
  {
   "cell_type": "code",
   "execution_count": 17,
   "metadata": {},
   "outputs": [
    {
     "name": "stdout",
     "output_type": "stream",
     "text": [
      "10 days 21:16:10.059880239\n"
     ]
    }
   ],
   "source": [
    "# order lead time \n",
    "\n",
    "order_lead = df_campaign.merge(df, how = 'left', on ='order_id')\n",
    "\n",
    "order_lead['time'] = order_lead['arrival_scan_date'] - order_lead['order_date']  \n",
    "print(order_lead['time'].mean())"
   ]
  },
  {
   "cell_type": "code",
   "execution_count": 18,
   "metadata": {},
   "outputs": [
    {
     "name": "stdout",
     "output_type": "stream",
     "text": [
      "4 days 03:47:22.105263157\n"
     ]
    }
   ],
   "source": [
    "# pack cycle time \n",
    "\n",
    "warehouse_pr['time'] = warehouse_pr['ready_to_ship_date'] - warehouse_pr['order_date']\n",
    "print(warehouse_pr['time'].mean()) "
   ]
  },
  {
   "cell_type": "code",
   "execution_count": 19,
   "metadata": {},
   "outputs": [
    {
     "name": "stdout",
     "output_type": "stream",
     "text": [
      "1 days 15:26:41.913875598\n"
     ]
    }
   ],
   "source": [
    "# pick cycle \n",
    "\n",
    "pick_cycle = df_intern.merge(df_process, how = 'left', on ='order_id')\n",
    "pick_cycle['time'] = pick_cycle['pickup_date'] - pick_cycle['ready_to_ship_date']\n",
    "print(pick_cycle['time'].mean()) "
   ]
  },
  {
   "cell_type": "code",
   "execution_count": null,
   "metadata": {},
   "outputs": [],
   "source": []
  }
 ],
 "metadata": {
  "kernelspec": {
   "display_name": "nf_base",
   "language": "python",
   "name": "python3"
  },
  "language_info": {
   "codemirror_mode": {
    "name": "ipython",
    "version": 3
   },
   "file_extension": ".py",
   "mimetype": "text/x-python",
   "name": "python",
   "nbconvert_exporter": "python",
   "pygments_lexer": "ipython3",
   "version": "3.9.18"
  }
 },
 "nbformat": 4,
 "nbformat_minor": 2
}
